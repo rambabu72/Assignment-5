{
 "cells": [
  {
   "cell_type": "code",
   "execution_count": 1,
   "id": "04bd84e0",
   "metadata": {},
   "outputs": [],
   "source": [
    "# Write a Python class to implement pow(x, n)\n",
    "\n",
    "\n",
    "\n",
    "# Explanation:\n",
    "\n",
    "# Use should be able to find the nth power of the x.(i.e x*x*x*x...n times)\n",
    "\n",
    "# You must implement it using Class\n",
    "\n",
    "\n",
    "\n",
    "# Sample Input:\n",
    "\n",
    "# x: 10\n",
    "\n",
    "# n: 2\n",
    "\n",
    "\n",
    "\n",
    "# Sample Output:\n",
    "\n",
    "# 100\n",
    "\n"
   ]
  },
  {
   "cell_type": "code",
   "execution_count": 12,
   "id": "d81f5f29",
   "metadata": {},
   "outputs": [],
   "source": [
    "class pow_solution:\n",
    "    def pow(self, x, n):\n",
    "        if x==0 or x==1 or n == 1:\n",
    "            return x\n",
    "        if x==-1:\n",
    "            if n%2 == 0:\n",
    "                return 1\n",
    "            else:\n",
    "                return -1\n",
    "        \n",
    "        if n == 0:\n",
    "            return 1\n",
    "        if n<0:\n",
    "            return 1/pow(x,-n)\n",
    "        val = self.pow(x,n//2)\n",
    "        \n",
    "        if n % 2 ==0:\n",
    "            return val * val\n",
    "        return val * val * x"
   ]
  },
  {
   "cell_type": "code",
   "execution_count": 13,
   "id": "0591ebf9",
   "metadata": {},
   "outputs": [],
   "source": [
    "obj = pow_solution()"
   ]
  },
  {
   "cell_type": "code",
   "execution_count": 14,
   "id": "8265d777",
   "metadata": {},
   "outputs": [
    {
     "data": {
      "text/plain": [
       "100"
      ]
     },
     "execution_count": 14,
     "metadata": {},
     "output_type": "execute_result"
    }
   ],
   "source": [
    "obj.pow(10,2)"
   ]
  },
  {
   "cell_type": "code",
   "execution_count": 26,
   "id": "393520d3",
   "metadata": {},
   "outputs": [
    {
     "data": {
      "text/plain": [
       "1"
      ]
     },
     "execution_count": 26,
     "metadata": {},
     "output_type": "execute_result"
    }
   ],
   "source": [
    "obj.pow(-1,56)"
   ]
  },
  {
   "cell_type": "code",
   "execution_count": null,
   "id": "0afca683",
   "metadata": {},
   "outputs": [],
   "source": []
  }
 ],
 "metadata": {
  "kernelspec": {
   "display_name": "Python 3 (ipykernel)",
   "language": "python",
   "name": "python3"
  },
  "language_info": {
   "codemirror_mode": {
    "name": "ipython",
    "version": 3
   },
   "file_extension": ".py",
   "mimetype": "text/x-python",
   "name": "python",
   "nbconvert_exporter": "python",
   "pygments_lexer": "ipython3",
   "version": "3.9.7"
  }
 },
 "nbformat": 4,
 "nbformat_minor": 5
}
